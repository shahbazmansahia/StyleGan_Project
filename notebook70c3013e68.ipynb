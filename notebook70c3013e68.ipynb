{
 "cells": [
  {
   "cell_type": "markdown",
   "metadata": {},
   "source": [
    "### Train your own GAN in a few lines of code!\n",
    "See original StyleGAN2 ADA github repo here: https://github.com/NVlabs/stylegan2-ada-pytorch\n",
    "\n",
    "By using a pre-trained model along with data heavy data augmentation, we can train our own GAN with a very limited dataset (<1000 images). \n",
    "\n",
    "Make sure you have a GPU runtime!"
   ]
  },
  {
   "cell_type": "code",
   "execution_count": 1,
   "metadata": {
    "execution": {
     "iopub.execute_input": "2022-02-19T20:13:23.734864Z",
     "iopub.status.busy": "2022-02-19T20:13:23.734413Z",
     "iopub.status.idle": "2022-02-19T20:13:40.813856Z",
     "shell.execute_reply": "2022-02-19T20:13:40.812862Z",
     "shell.execute_reply.started": "2022-02-19T20:13:23.734823Z"
    }
   },
   "outputs": [
    {
     "name": "stdout",
     "output_type": "stream",
     "text": [
      "Requirement already satisfied: pyspng in c:\\users\\dma\\anaconda3\\lib\\site-packages (0.1.0)\n",
      "Requirement already satisfied: ninja in c:\\users\\dma\\anaconda3\\lib\\site-packages (1.10.2.3)\n",
      "Requirement already satisfied: imageio-ffmpeg==0.4.3 in c:\\users\\dma\\anaconda3\\lib\\site-packages (0.4.3)\n",
      "Requirement already satisfied: numpy in c:\\users\\dma\\anaconda3\\lib\\site-packages (from pyspng) (1.21.5)\n"
     ]
    },
    {
     "name": "stderr",
     "output_type": "stream",
     "text": [
      "fatal: destination path 'stylegan2-ada-pytorch' already exists and is not an empty directory.\n"
     ]
    },
    {
     "name": "stdout",
     "output_type": "stream",
     "text": [
      "Requirement already satisfied: gdown in c:\\users\\dma\\anaconda3\\lib\\site-packages (4.5.1)\n",
      "Requirement already satisfied: beautifulsoup4 in c:\\users\\dma\\anaconda3\\lib\\site-packages (from gdown) (4.11.1)\n",
      "Requirement already satisfied: requests[socks] in c:\\users\\dma\\anaconda3\\lib\\site-packages (from gdown) (2.27.1)\n",
      "Requirement already satisfied: six in c:\\users\\dma\\anaconda3\\lib\\site-packages (from gdown) (1.16.0)\n",
      "Requirement already satisfied: tqdm in c:\\users\\dma\\anaconda3\\lib\\site-packages (from gdown) (4.64.0)\n",
      "Requirement already satisfied: filelock in c:\\users\\dma\\anaconda3\\lib\\site-packages (from gdown) (3.6.0)\n",
      "Requirement already satisfied: soupsieve>1.2 in c:\\users\\dma\\anaconda3\\lib\\site-packages (from beautifulsoup4->gdown) (2.3.1)\n",
      "Requirement already satisfied: urllib3<1.27,>=1.21.1 in c:\\users\\dma\\anaconda3\\lib\\site-packages (from requests[socks]->gdown) (1.26.9)\n",
      "Requirement already satisfied: idna<4,>=2.5 in c:\\users\\dma\\anaconda3\\lib\\site-packages (from requests[socks]->gdown) (3.3)\n",
      "Requirement already satisfied: charset-normalizer~=2.0.0 in c:\\users\\dma\\anaconda3\\lib\\site-packages (from requests[socks]->gdown) (2.0.4)\n",
      "Requirement already satisfied: certifi>=2017.4.17 in c:\\users\\dma\\anaconda3\\lib\\site-packages (from requests[socks]->gdown) (2021.10.8)\n",
      "Requirement already satisfied: PySocks!=1.5.7,>=1.5.6 in c:\\users\\dma\\anaconda3\\lib\\site-packages (from requests[socks]->gdown) (1.7.1)\n",
      "Requirement already satisfied: colorama in c:\\users\\dma\\anaconda3\\lib\\site-packages (from tqdm->gdown) (0.4.4)\n",
      "C:\\Users\\dma\\Downloads\\Untitled Folder\\stylegan2-ada-pytorch\n"
     ]
    }
   ],
   "source": [
    "!pip install pyspng ninja imageio-ffmpeg==0.4.3\n",
    "!git clone https://github.com/NVlabs/stylegan2-ada-pytorch\n",
    "!pip install gdown \n",
    "%cd ./stylegan2-ada-pytorch"
   ]
  },
  {
   "cell_type": "markdown",
   "metadata": {},
   "source": [
    "### Preprocessing Dataset"
   ]
  },
  {
   "cell_type": "code",
   "execution_count": 2,
   "metadata": {
    "execution": {
     "iopub.execute_input": "2022-02-19T20:14:43.665758Z",
     "iopub.status.busy": "2022-02-19T20:14:43.664994Z",
     "iopub.status.idle": "2022-02-19T20:15:09.562197Z",
     "shell.execute_reply": "2022-02-19T20:15:09.561392Z",
     "shell.execute_reply.started": "2022-02-19T20:14:43.665717Z"
    }
   },
   "outputs": [
    {
     "name": "stdout",
     "output_type": "stream",
     "text": [
      "Fri Jul 29 16:07:31 2022       \n",
      "+-----------------------------------------------------------------------------+\n",
      "| NVIDIA-SMI 516.59       Driver Version: 516.59       CUDA Version: 11.7     |\n",
      "|-------------------------------+----------------------+----------------------+\n",
      "| GPU  Name            TCC/WDDM | Bus-Id        Disp.A | Volatile Uncorr. ECC |\n",
      "| Fan  Temp  Perf  Pwr:Usage/Cap|         Memory-Usage | GPU-Util  Compute M. |\n",
      "|                               |                      |               MIG M. |\n",
      "|===============================+======================+======================|\n",
      "|   0  NVIDIA GeForce ... WDDM  | 00000000:01:00.0  On |                  N/A |\n",
      "| 23%   28C    P8    10W / 250W |    412MiB / 11264MiB |      0%      Default |\n",
      "|                               |                      |                  N/A |\n",
      "+-------------------------------+----------------------+----------------------+\n",
      "                                                                               \n",
      "+-----------------------------------------------------------------------------+\n",
      "| Processes:                                                                  |\n",
      "|  GPU   GI   CI        PID   Type   Process name                  GPU Memory |\n",
      "|        ID   ID                                                   Usage      |\n",
      "|=============================================================================|\n",
      "|    0   N/A  N/A      6160    C+G   C:\\Windows\\explorer.exe         N/A      |\n",
      "|    0   N/A  N/A      8164    C+G   ...ekyb3d8bbwe\\YourPhone.exe    N/A      |\n",
      "|    0   N/A  N/A      9376    C+G   ...bBrowser\\AcWebBrowser.exe    N/A      |\n",
      "|    0   N/A  N/A     13000    C+G   ...pp\\AutodeskDesktopApp.exe    N/A      |\n",
      "|    0   N/A  N/A     14636    C+G   ...lPanel\\SystemSettings.exe    N/A      |\n",
      "|    0   N/A  N/A     15880    C+G   ...2txyewy\\TextInputHost.exe    N/A      |\n",
      "|    0   N/A  N/A     18112    C+G   ...me\\Application\\chrome.exe    N/A      |\n",
      "|    0   N/A  N/A     24092    C+G   ...ter\\ThermalController.exe    N/A      |\n",
      "|    0   N/A  N/A     24260    C+G   ...5n1h2txyewy\\SearchApp.exe    N/A      |\n",
      "|    0   N/A  N/A     24640    C+G   ...bbwe\\Microsoft.Photos.exe    N/A      |\n",
      "+-----------------------------------------------------------------------------+\n"
     ]
    }
   ],
   "source": [
    "#!python dataset_tool.py --source=/kaggle/input/ganyu-genshin-impact-anime-faces-gan-training/ganyu-final --dest=./datasets/ganyu.zip\n",
    "#!python dataset_tool.py\n",
    "\n",
    "!nvidia-smi"
   ]
  },
  {
   "cell_type": "code",
   "execution_count": 4,
   "metadata": {},
   "outputs": [
    {
     "name": "stdout",
     "output_type": "stream",
     "text": [
      "Requirement already satisfied: ninja in c:\\users\\dma\\anaconda3\\lib\\site-packages (1.10.2.3)\n",
      "Note: you may need to restart the kernel to use updated packages.\n"
     ]
    }
   ],
   "source": [
    "%pip install ninja"
   ]
  },
  {
   "cell_type": "code",
   "execution_count": 5,
   "metadata": {},
   "outputs": [
    {
     "name": "stdout",
     "output_type": "stream",
     "text": [
      "[WinError 2] The system cannot find the file specified: '/content/'\n",
      "C:\\Users\\dma\\Downloads\\Untitled Folder\\stylegan2-ada-pytorch\n"
     ]
    }
   ],
   "source": [
    "# create a content directory\n",
    "%cd /content/"
   ]
  },
  {
   "cell_type": "code",
   "execution_count": 6,
   "metadata": {},
   "outputs": [
    {
     "name": "stderr",
     "output_type": "stream",
     "text": [
      "The system cannot find the file specified.\n",
      "Cloning into 'stylegan2-ada-pytorch'...\n"
     ]
    }
   ],
   "source": [
    "# remove previous references/directories for the stylegan and reinstall\n",
    "!rd /s /q \"stylegan2-ada-pytorch/\"\n",
    "!git clone https://github.com/NVlabs/stylegan2-ada-pytorch.git"
   ]
  },
  {
   "cell_type": "code",
   "execution_count": 7,
   "metadata": {},
   "outputs": [
    {
     "name": "stdout",
     "output_type": "stream",
     "text": [
      "Downloading...\n"
     ]
    },
    {
     "name": "stderr",
     "output_type": "stream",
     "text": [
      "C:\\Users\\dma\\anaconda3\\lib\\site-packages\\gdown\\cli.py:127: FutureWarning: Option `--id` was deprecated in version 4.3.1 and will be removed in 5.0. You don't need to pass it anymore to use a file ID.\n",
      "  warnings.warn(\n",
      "Downloading...\n",
      "From: https://drive.google.com/uc?id=1-0Nk7H6Cn3Nt60EdHG_NWSA8ohi2oBqr\n",
      "To: C:\\Users\\dma\\Downloads\\Untitled Folder\\stylegan2-ada-pytorch\\steam-oneface-lr_with_retinaface.tar.gz\n",
      "\n",
      "  0%|          | 0.00/77.6M [00:00<?, ?B/s]\n",
      "  6%|6         | 4.72M/77.6M [00:00<00:05, 13.0MB/s]\n",
      " 11%|#1        | 8.91M/77.6M [00:00<00:03, 18.7MB/s]\n",
      " 22%|##2       | 17.3M/77.6M [00:00<00:01, 31.9MB/s]\n",
      " 33%|###3      | 25.7M/77.6M [00:00<00:01, 34.6MB/s]\n",
      " 44%|####3     | 34.1M/77.6M [00:01<00:01, 39.8MB/s]\n",
      " 55%|#####4    | 42.5M/77.6M [00:01<00:00, 43.7MB/s]\n",
      " 66%|######5   | 50.9M/77.6M [00:01<00:00, 49.9MB/s]\n",
      " 76%|#######6  | 59.2M/77.6M [00:01<00:00, 54.5MB/s]\n",
      " 87%|########7 | 67.6M/77.6M [00:01<00:00, 55.8MB/s]\n",
      "100%|##########| 77.6M/77.6M [00:01<00:00, 46.3MB/s]\n",
      "tar: Error opening archive: Failed to open 'genshin_dataset'\n"
     ]
    }
   ],
   "source": [
    "from pathlib import Path;\n",
    "\n",
    "archive_name = 'steam-oneface-lr_with_retinaface.tar.gz';\n",
    "\n",
    "if not Path (archive_name).exists():\n",
    "    print ('Downloading...');\n",
    "    # This is from the notebook referenced itself so the link doesn't make sense to humans\n",
    "    !gdown --id 1-0Nk7H6Cn3Nt60EdHG_NWSA8ohi2oBqr\n",
    "    !tar xf genshin_dataset"
   ]
  },
  {
   "cell_type": "markdown",
   "metadata": {},
   "source": [
    "## Prepare Dataset"
   ]
  },
  {
   "cell_type": "code",
   "execution_count": 17,
   "metadata": {},
   "outputs": [],
   "source": [
    "import torch;"
   ]
  },
  {
   "cell_type": "code",
   "execution_count": 20,
   "metadata": {},
   "outputs": [
    {
     "data": {
      "text/plain": [
       "<function torch._assert(condition, message)>"
      ]
     },
     "execution_count": 20,
     "metadata": {},
     "output_type": "execute_result"
    }
   ],
   "source": [
    "torch._assert"
   ]
  },
  {
   "cell_type": "code",
   "execution_count": 21,
   "metadata": {
    "execution": {
     "iopub.execute_input": "2022-02-19T20:22:47.039105Z",
     "iopub.status.busy": "2022-02-19T20:22:47.038824Z",
     "iopub.status.idle": "2022-02-19T20:22:49.890973Z",
     "shell.execute_reply": "2022-02-19T20:22:49.890042Z",
     "shell.execute_reply.started": "2022-02-19T20:22:47.039075Z"
    }
   },
   "outputs": [
    {
     "name": "stderr",
     "output_type": "stream",
     "text": [
      "Traceback (most recent call last):\n",
      "  File \"C:\\Users\\dma\\Downloads\\Untitled Folder\\stylegan2-ada-pytorch\\torch_utils\\misc.py\", line 62, in <module>\n",
      "    symbolic_assert = torch._assert # 1.8.0a0 # pylint: disable=protected-access\n",
      "AttributeError: module 'torch' has no attribute '_assert'\n",
      "\n",
      "During handling of the above exception, another exception occurred:\n",
      "\n",
      "Traceback (most recent call last):\n",
      "  File \"C:\\Users\\dma\\Downloads\\Untitled Folder\\stylegan2-ada-pytorch\\train.py\", line 20, in <module>\n",
      "    from training import training_loop\n",
      "  File \"C:\\Users\\dma\\Downloads\\Untitled Folder\\stylegan2-ada-pytorch\\training\\training_loop.py\", line 19, in <module>\n",
      "    from torch_utils import misc\n",
      "  File \"C:\\Users\\dma\\Downloads\\Untitled Folder\\stylegan2-ada-pytorch\\torch_utils\\misc.py\", line 64, in <module>\n",
      "    symbolic_assert = torch.Assert # 1.7.0\n",
      "AttributeError: module 'torch' has no attribute 'Assert'\n"
     ]
    }
   ],
   "source": [
    "!python train.py --help"
   ]
  },
  {
   "cell_type": "code",
   "execution_count": 22,
   "metadata": {},
   "outputs": [
    {
     "name": "stderr",
     "output_type": "stream",
     "text": [
      "Traceback (most recent call last):\n",
      "  File \"C:\\Users\\dma\\Downloads\\Untitled Folder\\stylegan2-ada-pytorch\\torch_utils\\misc.py\", line 62, in <module>\n",
      "    symbolic_assert = torch._assert # 1.8.0a0 # pylint: disable=protected-access\n",
      "AttributeError: module 'torch' has no attribute '_assert'\n",
      "\n",
      "During handling of the above exception, another exception occurred:\n",
      "\n",
      "Traceback (most recent call last):\n",
      "  File \"C:\\Users\\dma\\Downloads\\Untitled Folder\\stylegan2-ada-pytorch\\train.py\", line 20, in <module>\n",
      "    from training import training_loop\n",
      "  File \"C:\\Users\\dma\\Downloads\\Untitled Folder\\stylegan2-ada-pytorch\\training\\training_loop.py\", line 19, in <module>\n",
      "    from torch_utils import misc\n",
      "  File \"C:\\Users\\dma\\Downloads\\Untitled Folder\\stylegan2-ada-pytorch\\torch_utils\\misc.py\", line 64, in <module>\n",
      "    symbolic_assert = torch.Assert # 1.7.0\n",
      "AttributeError: module 'torch' has no attribute 'Assert'\n"
     ]
    }
   ],
   "source": [
    "!python train.py --help --outdir=~/training-runs --data=~/ganyu/ganyu-final/ --gpus=1"
   ]
  },
  {
   "cell_type": "markdown",
   "metadata": {},
   "source": [
    "### Training will take a long time, make sure you have enough GPU hours available (minimum 10 hours required for good results)\n",
    "Do !python train.py --help to see the different optional arguments available.\n",
    "\n",
    "Resume from your previous checkpoint of notebook times out. Get output model from: ./stylegan2-ada-pytorch/results"
   ]
  },
  {
   "cell_type": "code",
   "execution_count": 4,
   "metadata": {
    "execution": {
     "iopub.execute_input": "2022-02-19T20:18:43.228695Z",
     "iopub.status.busy": "2022-02-19T20:18:43.228077Z",
     "iopub.status.idle": "2022-02-19T20:22:33.226802Z",
     "shell.execute_reply": "2022-02-19T20:22:33.225975Z",
     "shell.execute_reply.started": "2022-02-19T20:18:43.228655Z"
    }
   },
   "outputs": [
    {
     "name": "stderr",
     "output_type": "stream",
     "text": [
      "Traceback (most recent call last):\n",
      "  File \"C:\\Users\\dma\\Downloads\\Untitled Folder\\stylegan2-ada-pytorch\\train.py\", line 17, in <module>\n",
      "    import torch\n",
      "ModuleNotFoundError: No module named 'torch'\n"
     ]
    }
   ],
   "source": [
    "!python train.py --outdir ./results --snap=4 --cfg=paper512 --data=./datasets/ganyu.zip --augpipe=\"bg\" --mirror=True --metrics=None --resume=/kaggle/input/ganyu-genshin-impact-anime-faces-gan-training/rem-pretrained.pkl --augpipe=\"bg\" --kimg=145"
   ]
  },
  {
   "cell_type": "code",
   "execution_count": 7,
   "metadata": {},
   "outputs": [],
   "source": [
    "import seaborn as sns;\n",
    "import numpy as np;\n",
    "import matplotlib.pyplot as plt\n",
    "%matplotlib inline\n"
   ]
  },
  {
   "cell_type": "code",
   "execution_count": 9,
   "metadata": {},
   "outputs": [],
   "source": [
    "import pandas as pd;"
   ]
  },
  {
   "cell_type": "markdown",
   "metadata": {},
   "source": []
  },
  {
   "cell_type": "markdown",
   "metadata": {},
   "source": [
    "Stopping training as example notebook"
   ]
  }
 ],
 "metadata": {
  "kernelspec": {
   "display_name": "Python 3 (ipykernel)",
   "language": "python",
   "name": "python3"
  },
  "language_info": {
   "codemirror_mode": {
    "name": "ipython",
    "version": 3
   },
   "file_extension": ".py",
   "mimetype": "text/x-python",
   "name": "python",
   "nbconvert_exporter": "python",
   "pygments_lexer": "ipython3",
   "version": "3.9.12"
  }
 },
 "nbformat": 4,
 "nbformat_minor": 4
}
